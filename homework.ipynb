{
 "cells": [
  {
   "cell_type": "code",
   "execution_count": 327,
   "metadata": {},
   "outputs": [],
   "source": [
    "import pandas as pd"
   ]
  },
  {
   "cell_type": "code",
   "execution_count": 335,
   "metadata": {},
   "outputs": [],
   "source": [
    "def count_top3(list_yaer):\n",
    "    dataframes = {}\n",
    "    for yaer in list_yaer:\n",
    "        dataframes[yaer] = pd.read_csv(f'names/yob{yaer}.txt', names=['Name', 'Gender', 'Quantity'])\n",
    "    all_df = pd.concat(dataframes)\n",
    "    all_df = all_df.groupby('Name').sum()[['Quantity']]\n",
    "    all_df = all_df.sort_values(['Quantity'], ascending=False).head(3)\n",
    "    return all_df.index.to_list()"
   ]
  },
  {
   "cell_type": "code",
   "execution_count": 337,
   "metadata": {},
   "outputs": [
    {
     "data": {
      "text/plain": [
       "['Emma', 'Sophia', 'Noah']"
      ]
     },
     "execution_count": 337,
     "metadata": {},
     "output_type": "execute_result"
    }
   ],
   "source": [
    "count_top3([2012, 2013, 2015])"
   ]
  },
  {
   "cell_type": "code",
   "execution_count": 338,
   "metadata": {
    "scrolled": true
   },
   "outputs": [
    {
     "data": {
      "text/html": [
       "<div>\n",
       "<style scoped>\n",
       "    .dataframe tbody tr th:only-of-type {\n",
       "        vertical-align: middle;\n",
       "    }\n",
       "\n",
       "    .dataframe tbody tr th {\n",
       "        vertical-align: top;\n",
       "    }\n",
       "\n",
       "    .dataframe thead th {\n",
       "        text-align: right;\n",
       "    }\n",
       "</style>\n",
       "<table border=\"1\" class=\"dataframe\">\n",
       "  <thead>\n",
       "    <tr style=\"text-align: right;\">\n",
       "      <th></th>\n",
       "      <th></th>\n",
       "      <th>1900</th>\n",
       "      <th>1970</th>\n",
       "      <th>2010</th>\n",
       "    </tr>\n",
       "    <tr>\n",
       "      <th></th>\n",
       "      <th>Gender</th>\n",
       "      <th></th>\n",
       "      <th></th>\n",
       "      <th></th>\n",
       "    </tr>\n",
       "  </thead>\n",
       "  <tbody>\n",
       "    <tr>\n",
       "      <th rowspan=\"2\" valign=\"top\">Quantity</th>\n",
       "      <th>F</th>\n",
       "      <td>299798</td>\n",
       "      <td>1748145</td>\n",
       "      <td>1775345</td>\n",
       "    </tr>\n",
       "    <tr>\n",
       "      <th>M</th>\n",
       "      <td>150480</td>\n",
       "      <td>1859108</td>\n",
       "      <td>1916476</td>\n",
       "    </tr>\n",
       "  </tbody>\n",
       "</table>\n",
       "</div>"
      ],
      "text/plain": [
       "                   1900     1970     2010\n",
       "         Gender                          \n",
       "Quantity F       299798  1748145  1775345\n",
       "         M       150480  1859108  1916476"
      ]
     },
     "execution_count": 338,
     "metadata": {},
     "output_type": "execute_result"
    }
   ],
   "source": [
    "def count_dinamics(years_list):\n",
    "    dataframes = {}\n",
    "    for yaer in years_list:\n",
    "        dataframes[yaer] = pd.read_csv(f'names/yob{yaer}.txt', names=['Name', 'Gender', 'Quantity'])\n",
    "    for key, value in dataframes.items():\n",
    "        dataframes[key] = value.groupby('Gender').sum()[['Quantity']]\n",
    "    all_df = pd.concat(dataframes)\n",
    "    return all_df.unstack('Gender').T\n",
    "count_dinamics([1900, 1970, 2010])"
   ]
  },
  {
   "cell_type": "code",
   "execution_count": null,
   "metadata": {},
   "outputs": [],
   "source": []
  }
 ],
 "metadata": {
  "kernelspec": {
   "display_name": "Python 3",
   "language": "python",
   "name": "python3"
  },
  "language_info": {
   "codemirror_mode": {
    "name": "ipython",
    "version": 3
   },
   "file_extension": ".py",
   "mimetype": "text/x-python",
   "name": "python",
   "nbconvert_exporter": "python",
   "pygments_lexer": "ipython3",
   "version": "3.7.6"
  }
 },
 "nbformat": 4,
 "nbformat_minor": 4
}
